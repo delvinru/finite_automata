{
 "cells": [
  {
   "cell_type": "code",
   "execution_count": 3,
   "id": "293040d4-0216-4d6f-b5bb-587e456e5c71",
   "metadata": {},
   "outputs": [],
   "source": [
    "from sage.crypto.boolean_function import BooleanFunction"
   ]
  },
  {
   "cell_type": "code",
   "execution_count": null,
   "id": "1d524006-5c41-455c-99b9-273144dd91d7",
   "metadata": {},
   "outputs": [],
   "source": [
    "from iter"
   ]
  }
 ],
 "metadata": {
  "kernelspec": {
   "display_name": "SageMath 10.2",
   "language": "sage",
   "name": "sagemath"
  },
  "language_info": {
   "codemirror_mode": {
    "name": "ipython",
    "version": 3
   },
   "file_extension": ".py",
   "mimetype": "text/x-python",
   "name": "python",
   "nbconvert_exporter": "python",
   "pygments_lexer": "ipython3",
   "version": "3.11.1"
  }
 },
 "nbformat": 4,
 "nbformat_minor": 5
}
